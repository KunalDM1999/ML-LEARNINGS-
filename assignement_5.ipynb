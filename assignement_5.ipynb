{
  "nbformat": 4,
  "nbformat_minor": 0,
  "metadata": {
    "colab": {
      "provenance": [],
      "authorship_tag": "ABX9TyNfZiHoJ+rGJsKaGk+FeBNw",
      "include_colab_link": true
    },
    "kernelspec": {
      "name": "python3",
      "display_name": "Python 3"
    },
    "language_info": {
      "name": "python"
    }
  },
  "cells": [
    {
      "cell_type": "markdown",
      "metadata": {
        "id": "view-in-github",
        "colab_type": "text"
      },
      "source": [
        "<a href=\"https://colab.research.google.com/github/KunalDM1999/ML-LEARNINGS-/blob/main/assignement_5.ipynb\" target=\"_parent\"><img src=\"https://colab.research.google.com/assets/colab-badge.svg\" alt=\"Open In Colab\"/></a>"
      ]
    },
    {
      "cell_type": "code",
      "source": [
        "from google.colab import drive\n",
        "drive.mount('/content/drive')"
      ],
      "metadata": {
        "colab": {
          "base_uri": "https://localhost:8080/"
        },
        "id": "cxFMsQ1_b6OK",
        "outputId": "06373b17-273f-4297-9851-9c603deef2f9"
      },
      "execution_count": null,
      "outputs": [
        {
          "output_type": "stream",
          "name": "stdout",
          "text": [
            "Mounted at /content/drive\n"
          ]
        }
      ]
    },
    {
      "cell_type": "markdown",
      "source": [
        "# **Q1 to Q3**"
      ],
      "metadata": {
        "id": "o_auJQ6mqcqr"
      }
    },
    {
      "cell_type": "code",
      "source": [
        "from sklearn.datasets import fetch_california_housing\n",
        "from sklearn.model_selection import train_test_split, GridSearchCV\n",
        "from sklearn.preprocessing import StandardScaler\n",
        "from sklearn.linear_model import SGDRegressor\n",
        "from sklearn.metrics import explained_variance_score, make_scorer\n",
        "\n",
        "# Load the dataset\n",
        "california_housing = fetch_california_housing()\n",
        "X, y = california_housing.data, california_housing.target\n",
        "\n",
        "# Split the data into train and test sets\n",
        "X_train, X_test, y_train, y_test = train_test_split(X, y, test_size=0.3, random_state=1)\n",
        "\n",
        "# Standardize the features\n",
        "scaler = StandardScaler(with_mean=True, with_std=True)\n",
        "X_train_norm = scaler.fit_transform(X_train)\n",
        "X_test_norm = scaler.transform(X_test)\n",
        "\n",
        "# Set up the SGDRegressor\n",
        "sgd = SGDRegressor(random_state=1)\n",
        "\n",
        "# Set up the parameter grid for GridSearchCV\n",
        "param_grid = {\n",
        "    'loss': ['squared_error', 'huber'],\n",
        "    'penalty': ['l1', 'l2'],\n",
        "    'alpha': [0.1, 0.01, 0.001],\n",
        "    'max_iter': [1000, 2000, 5000]\n",
        "}\n",
        "ev_scorer = make_scorer(explained_variance_score)\n",
        "# Set up the GridSearchCV with cross-validation\n",
        "grid_search = GridSearchCV(estimator=sgd, param_grid=param_grid, cv=4,scoring=ev_scorer)\n",
        "\n",
        "# Train the model\n",
        "grid_search.fit(X_train_norm, y_train)\n",
        "\n",
        "# Get the best estimator\n",
        "best_model = grid_search.best_estimator_\n",
        "\n",
        "# Make predictions on the test set\n",
        "y_pred = best_model.predict(X_test_norm)\n",
        "\n",
        "# Compute the score\n",
        "score = explained_variance_score(y_test, y_pred)\n",
        "print(f'Best parameters: {grid_search.best_params_}')\n",
        "print(f'Mean squared error on test set: {score}')\n"
      ],
      "metadata": {
        "colab": {
          "base_uri": "https://localhost:8080/"
        },
        "id": "jmoHbuKPdeBn",
        "outputId": "4a903695-c978-4c29-a4fc-4641b0532c68"
      },
      "execution_count": null,
      "outputs": [
        {
          "output_type": "stream",
          "name": "stdout",
          "text": [
            "Best parameters: {'alpha': 0.01, 'loss': 'squared_error', 'max_iter': 1000, 'penalty': 'l1'}\n",
            "Mean squared error on test set: 0.5954742867118767\n"
          ]
        }
      ]
    },
    {
      "cell_type": "markdown",
      "source": [
        "# **Q4 and Q5**"
      ],
      "metadata": {
        "id": "MQ60WO_tqoh2"
      }
    },
    {
      "cell_type": "code",
      "source": [
        "from sklearn.datasets import fetch_california_housing\n",
        "from sklearn.model_selection import train_test_split, GridSearchCV\n",
        "from sklearn.preprocessing import StandardScaler\n",
        "from sklearn.linear_model import Ridge\n",
        "from sklearn.metrics import explained_variance_score, make_scorer\n",
        "\n",
        "# Load the dataset\n",
        "california_housing = fetch_california_housing()\n",
        "X, y = california_housing.data, california_housing.target\n",
        "\n",
        "# Split the data into train and test sets\n",
        "X_train, X_test, y_train, y_test = train_test_split(X, y, test_size=0.3, random_state=1)\n",
        "\n",
        "# Standardize the features\n",
        "scaler = StandardScaler(with_mean=True, with_std=True)\n",
        "X_train_norm = scaler.fit_transform(X_train)\n",
        "X_test_norm = scaler.transform(X_test)\n",
        "\n",
        "# Set up the Ridge Regression Model\n",
        "ridge = Ridge()\n",
        "\n",
        "# Set up the parameter grid for GridSearchCV\n",
        "param_grid = {\n",
        "    'alpha': [0.5, 0.1, 0.05, 0.01, 0.005, 0.001],\n",
        "    'fit_intercept': [True, False]\n",
        "}\n",
        "ev_scorer = make_scorer(explained_variance_score)\n",
        "# Set up the GridSearchCV with cross-validation\n",
        "grid_search = GridSearchCV(estimator=ridge, param_grid=param_grid, cv=4, scoring=ev_scorer)\n",
        "\n",
        "# Train the model\n",
        "grid_search.fit(X_train_norm, y_train)\n",
        "\n",
        "# Get the best estimator\n",
        "best_model = grid_search.best_estimator_\n",
        "\n",
        "# Make predictions on the test set\n",
        "y_pred = best_model.predict(X_test_norm)\n",
        "\n",
        "# Compute the score\n",
        "score = explained_variance_score(y_test, y_pred)\n",
        "print(f'Best parameters: {grid_search.best_params_}')\n",
        "print(f'Mean squared error on test set: {score}')\n"
      ],
      "metadata": {
        "colab": {
          "base_uri": "https://localhost:8080/"
        },
        "id": "ZFczJI6Lk2vw",
        "outputId": "f0595f0a-e0ad-4e1a-fa14-b16f43b3e06c"
      },
      "execution_count": null,
      "outputs": [
        {
          "output_type": "stream",
          "name": "stdout",
          "text": [
            "Best parameters: {'alpha': 0.5, 'fit_intercept': True}\n",
            "Mean squared error on test set: 0.5975112548822477\n"
          ]
        }
      ]
    },
    {
      "cell_type": "markdown",
      "source": [
        "# **Q6 and Q7**"
      ],
      "metadata": {
        "id": "xmWM26kLqyXU"
      }
    },
    {
      "cell_type": "code",
      "source": [
        "from sklearn.datasets import fetch_california_housing\n",
        "from sklearn.model_selection import train_test_split, GridSearchCV\n",
        "from sklearn.preprocessing import StandardScaler\n",
        "from sklearn.linear_model import Lasso\n",
        "from sklearn.metrics import explained_variance_score, make_scorer\n",
        "\n",
        "# Load the dataset\n",
        "california_housing = fetch_california_housing()\n",
        "X, y = california_housing.data, california_housing.target\n",
        "\n",
        "# Split the data into train and test sets\n",
        "X_train, X_test, y_train, y_test = train_test_split(X, y, test_size=0.4, random_state=1)\n",
        "\n",
        "# Standardize the features\n",
        "scaler = StandardScaler(with_mean=True, with_std=True)\n",
        "X_train_norm = scaler.fit_transform(X_train)\n",
        "X_test_norm = scaler.transform(X_test)\n",
        "\n",
        "# Set up the Lasso Regression Model\n",
        "lasso = Lasso()\n",
        "\n",
        "# Set up the parameter grid for GridSearchCV\n",
        "param_grid = {\n",
        "    'alpha': [0.5, 0.1, 0.05, 0.01, 0.005, 0.001],\n",
        "    'fit_intercept': [True, False]\n",
        "}\n",
        "\n",
        "# Use Explained Variance Score as the scoring metric\n",
        "ev_scorer = make_scorer(explained_variance_score)\n",
        "\n",
        "# Set up the GridSearchCV with cross-validation\n",
        "grid_search = GridSearchCV(estimator=lasso, param_grid=param_grid, cv=6, scoring=ev_scorer)\n",
        "\n",
        "# Train the model\n",
        "grid_search.fit(X_train_norm, y_train)\n",
        "\n",
        "# Get the best estimator\n",
        "best_model = grid_search.best_estimator_\n",
        "\n",
        "# Make predictions on the test set\n",
        "y_pred = best_model.predict(X_test_norm)\n",
        "\n",
        "# Compute the score\n",
        "score = explained_variance_score(y_test, y_pred)\n",
        "print(f'Best parameters: {grid_search.best_params_}')\n",
        "print(f'Explained variance score on test set: {score}')\n"
      ],
      "metadata": {
        "colab": {
          "base_uri": "https://localhost:8080/"
        },
        "id": "m-N9uTZvoTuA",
        "outputId": "552fcc86-fd2d-4eb5-f040-383da5e015cb"
      },
      "execution_count": null,
      "outputs": [
        {
          "output_type": "stream",
          "name": "stdout",
          "text": [
            "Best parameters: {'alpha': 0.005, 'fit_intercept': True}\n",
            "Explained variance score on test set: 0.60484209940891\n"
          ]
        }
      ]
    }
  ]
}