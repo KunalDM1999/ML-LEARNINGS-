{
  "nbformat": 4,
  "nbformat_minor": 0,
  "metadata": {
    "colab": {
      "provenance": [],
      "include_colab_link": true
    },
    "kernelspec": {
      "name": "python3",
      "display_name": "Python 3"
    },
    "language_info": {
      "name": "python"
    }
  },
  "cells": [
    {
      "cell_type": "markdown",
      "metadata": {
        "id": "view-in-github",
        "colab_type": "text"
      },
      "source": [
        "<a href=\"https://colab.research.google.com/github/KunalDM1999/ML-LEARNINGS-/blob/main/asigement_4.ipynb\" target=\"_parent\"><img src=\"https://colab.research.google.com/assets/colab-badge.svg\" alt=\"Open In Colab\"/></a>"
      ]
    },
    {
      "cell_type": "code",
      "source": [
        "from google.colab import drive\n",
        "drive.mount('/content/drive')"
      ],
      "metadata": {
        "colab": {
          "base_uri": "https://localhost:8080/"
        },
        "id": "B-3uamQnh0dn",
        "outputId": "798fe7e4-ea3f-4eb6-e251-ff97e4c27806"
      },
      "execution_count": null,
      "outputs": [
        {
          "output_type": "stream",
          "name": "stdout",
          "text": [
            "Mounted at /content/drive\n"
          ]
        }
      ]
    },
    {
      "cell_type": "code",
      "source": [
        "from sklearn.datasets import fetch_california_housing\n",
        "from sklearn.model_selection import train_test_split\n",
        "from sklearn.preprocessing import StandardScaler\n",
        "from sklearn.linear_model import LinearRegression\n",
        "from sklearn.metrics import r2_score\n",
        "\n",
        "# Step 1: Load the California housing dataset\n",
        "california_housing = fetch_california_housing()\n",
        "X, y = california_housing.data, california_housing.target\n",
        "\n",
        "# Step 2: Split the dataset into training and testing sets\n",
        "X_train, X_test, y_train, y_test = train_test_split(X, y, test_size=0.2, shuffle=False, random_state=0)\n",
        "\n",
        "# Step 3: Preprocess the data using StandardScaler\n",
        "scaler = StandardScaler()\n",
        "X_train_scaled = scaler.fit_transform(X_train)\n",
        "X_test_scaled = scaler.transform(X_test)\n",
        "\n",
        "# Step 4: Fit a LinearRegression model on the training set\n",
        "model = LinearRegression()\n",
        "model.fit(X_train_scaled, y_train)\n",
        "\n",
        "# Step 5: Evaluate the model on the test set to obtain the R squared value\n",
        "y_pred = model.predict(X_test_scaled)\n",
        "r2 = r2_score(y_test, y_pred)\n",
        "\n",
        "r2\n"
      ],
      "metadata": {
        "colab": {
          "base_uri": "https://localhost:8080/"
        },
        "id": "O0xZsdsiiC7z",
        "outputId": "6804377e-aa6b-4aa5-9ef8-5166ca60e2c3"
      },
      "execution_count": null,
      "outputs": [
        {
          "output_type": "execute_result",
          "data": {
            "text/plain": [
              "0.6605140591531986"
            ]
          },
          "metadata": {},
          "execution_count": 2
        }
      ]
    },
    {
      "cell_type": "code",
      "source": [
        "data=california_housing\n",
        "from sklearn.metrics import mean_squared_error\n",
        "\n",
        "# Step 4: Fit a LinearRegression model on the training set\n",
        "model = LinearRegression()\n",
        "model.fit(X_train_scaled, y_train)\n",
        "\n",
        "# Step 5: Evaluate the model on the test set to obtain the root mean squared error\n",
        "y_pred = model.predict(X_test_scaled)\n",
        "rmse = mean_squared_error(y_test, y_pred, squared=False)\n",
        "rmse"
      ],
      "metadata": {
        "colab": {
          "base_uri": "https://localhost:8080/"
        },
        "id": "fEnYC3ijjybf",
        "outputId": "779b1391-2137-4dfb-8a58-c1d848b7a426"
      },
      "execution_count": null,
      "outputs": [
        {
          "output_type": "execute_result",
          "data": {
            "text/plain": [
              "0.7033383507521884"
            ]
          },
          "metadata": {},
          "execution_count": 6
        }
      ]
    },
    {
      "cell_type": "code",
      "source": [
        "from sklearn.metrics import explained_variance_score, max_error, mean_absolute_error, mean_squared_error\n",
        "evs = explained_variance_score(y_test, y_pred)\n",
        "max_err = max_error(y_test, y_pred)\n",
        "mae = mean_absolute_error(y_test, y_pred)\n",
        "mse = mean_squared_error(y_test, y_pred)\n",
        "\n",
        "print(f'Explained Variance Score: {evs}')\n",
        "print(f'Max Error: {max_err}')\n",
        "print(f'Mean Absolute Error (MAE): {mae}')\n",
        "print(f'Mean Squared Error (MSE): {mse}')"
      ],
      "metadata": {
        "colab": {
          "base_uri": "https://localhost:8080/"
        },
        "id": "XKLdajEQm0li",
        "outputId": "7f94096a-4680-40c6-8726-b4465279ae78"
      },
      "execution_count": null,
      "outputs": [
        {
          "output_type": "stream",
          "name": "stdout",
          "text": [
            "Explained Variance Score: 0.6605500501742696\n",
            "Max Error: 7.2604532929585535\n",
            "Mean Absolute Error (MAE): 0.5168526993787044\n",
            "Mean Squared Error (MSE): 0.4946848356388085\n"
          ]
        }
      ]
    },
    {
      "cell_type": "code",
      "source": [
        "from sklearn.linear_model import SGDRegressor\n",
        "#Step 4: Fit an SGDRegressor model on the training set\n",
        "sgd_regressor = SGDRegressor(random_state=0)\n",
        "sgd_regressor.fit(X_train_scaled, y_train)\n",
        "\n",
        "# Step 5: Retrieve the bias term (intercept) from the trained model\n",
        "bias_term = sgd_regressor.intercept_[0]\n",
        "\n",
        "print(f'Bias term (intercept): {bias_term}')"
      ],
      "metadata": {
        "colab": {
          "base_uri": "https://localhost:8080/"
        },
        "id": "xmz71BjLnnYS",
        "outputId": "4a8b13e4-ab9e-4348-dfc6-1b86ea6d8bb1"
      },
      "execution_count": null,
      "outputs": [
        {
          "output_type": "stream",
          "name": "stdout",
          "text": [
            "Bias term (intercept): 2.0112392087532647\n"
          ]
        }
      ]
    },
    {
      "cell_type": "code",
      "source": [
        "coefficients = sgd_regressor.coef_\n",
        "print(f'Coefficients: {coefficients}')"
      ],
      "metadata": {
        "colab": {
          "base_uri": "https://localhost:8080/"
        },
        "id": "ZHoRUfyYoP82",
        "outputId": "2825c845-1345-4361-9f88-e1139c26b213"
      },
      "execution_count": null,
      "outputs": [
        {
          "output_type": "stream",
          "name": "stdout",
          "text": [
            "Coefficients: [ 0.84046697  0.112331   -0.41213039  0.21595971 -0.01781887 -0.01480892\n",
            " -0.87394103 -0.83913104]\n"
          ]
        }
      ]
    }
  ]
}